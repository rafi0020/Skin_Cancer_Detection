{
  "cells": [
    {
      "cell_type": "code",
      "execution_count": null,
      "metadata": {
        "id": "j065oSl8I9qT"
      },
      "outputs": [],
      "source": [
        "import tensorflow as tf\n",
        "import tensorflow_hub as hub\n",
        "import matplotlib.pyplot as plt\n",
        "import numpy as np\n",
        "import pandas as pd\n",
        "import seaborn as sns\n",
        "from tensorflow.keras.utils import get_file\n",
        "from sklearn.metrics import roc_curve, auc, confusion_matrix\n",
        "from imblearn.metrics import sensitivity_score, specificity_score\n",
        "\n",
        "import os\n",
        "import glob\n",
        "import zipfile\n",
        "import random"
      ]
    },
    {
      "cell_type": "code",
      "execution_count": null,
      "metadata": {
        "id": "CK-p3a3IJOLT"
      },
      "outputs": [],
      "source": [
        "tf.random.set_seed(7)\n",
        "np.random.seed(7)\n",
        "random.seed(7)"
      ]
    },
    {
      "cell_type": "code",
      "execution_count": null,
      "metadata": {
        "id": "OiaLjIt9JTEL"
      },
      "outputs": [],
      "source": [
        "class_names = [\"benign\", \"malignant\"]"
      ]
    },
    {
      "cell_type": "code",
      "execution_count": null,
      "metadata": {
        "id": "GntYLErAJU8B"
      },
      "outputs": [],
      "source": [
        "def download_and_extract_dataset():\n",
        "  # dataset from https://github.com/udacity/dermatologist-ai\n",
        "  train_url = \"https://s3-us-west-1.amazonaws.com/udacity-dlnfd/datasets/skin-cancer/train.zip\"\n",
        "  valid_url = \"https://s3-us-west-1.amazonaws.com/udacity-dlnfd/datasets/skin-cancer/valid.zip\"\n",
        "  test_url  = \"https://s3-us-west-1.amazonaws.com/udacity-dlnfd/datasets/skin-cancer/test.zip\"\n",
        "  for i, download_link in enumerate([valid_url, train_url, test_url]):\n",
        "    temp_file = f\"temp{i}.zip\"\n",
        "    data_dir = get_file(origin=download_link, fname=os.path.join(os.getcwd(), temp_file))\n",
        "    print(\"Extracting\", download_link)\n",
        "    with zipfile.ZipFile(data_dir, \"r\") as z:\n",
        "      z.extractall(\"data\")\n",
        "    os.remove(temp_file)"
      ]
    },
    {
      "cell_type": "code",
      "execution_count": null,
      "metadata": {
        "colab": {
          "base_uri": "https://localhost:8080/"
        },
        "id": "vy3fm6YDJgP0",
        "outputId": "36cb9ce0-8ba2-4659-da47-85c5d1e2752d"
      },
      "outputs": [],
      "source": [
        "download_and_extract_dataset()"
      ]
    },
    {
      "cell_type": "code",
      "execution_count": null,
      "metadata": {
        "id": "HWXYRSiJJrD4"
      },
      "outputs": [],
      "source": [
        "def generate_csv(folder, label2int):\n",
        "    folder_name = os.path.basename(folder)\n",
        "    labels = list(label2int)\n",
        "    df = pd.DataFrame(columns=[\"filepath\", \"label\"])\n",
        "    i = 0\n",
        "    for label in labels:\n",
        "        print(\"Reading\", os.path.join(folder, label, \"*\"))\n",
        "        for filepath in glob.glob(os.path.join(folder, label, \"*\")):\n",
        "            df.loc[i] = [filepath, label2int[label]]\n",
        "            i += 1\n",
        "    output_file = f\"{folder_name}.csv\"\n",
        "    print(\"Saving\", output_file)\n",
        "    df.to_csv(output_file)"
      ]
    },
    {
      "cell_type": "code",
      "execution_count": null,
      "metadata": {
        "colab": {
          "base_uri": "https://localhost:8080/"
        },
        "id": "f3xv6BDVJtsD",
        "outputId": "9bf69b43-d7a8-4b8b-fc02-c1dc08329178"
      },
      "outputs": [],
      "source": [
        "generate_csv(\"data/train\", {\"nevus\": 0, \"seborrheic_keratosis\": 0, \"melanoma\": 1})\n",
        "generate_csv(\"data/valid\", {\"nevus\": 0, \"seborrheic_keratosis\": 0, \"melanoma\": 1})\n",
        "generate_csv(\"data/test\", {\"nevus\": 0, \"seborrheic_keratosis\": 0, \"melanoma\": 1})"
      ]
    },
    {
      "cell_type": "code",
      "execution_count": null,
      "metadata": {
        "id": "d8_XSC0uJyig"
      },
      "outputs": [],
      "source": [
        "train_metadata_filename = \"train.csv\"\n",
        "valid_metadata_filename = \"valid.csv\""
      ]
    },
    {
      "cell_type": "code",
      "execution_count": null,
      "metadata": {
        "colab": {
          "base_uri": "https://localhost:8080/"
        },
        "id": "y20vd4ZnJ3im",
        "outputId": "cb7ab7a3-67cb-4760-ff51-64c19cd2e6d6"
      },
      "outputs": [],
      "source": [
        "df_train = pd.read_csv(train_metadata_filename)\n",
        "df_valid = pd.read_csv(valid_metadata_filename)\n",
        "n_training_samples = len(df_train)\n",
        "n_validation_samples = len(df_valid)\n",
        "print(\"Number of training samples:\", n_training_samples)\n",
        "print(\"Number of validation samples:\", n_validation_samples)"
      ]
    },
    {
      "cell_type": "code",
      "execution_count": null,
      "metadata": {
        "id": "R2MkMOBKJ8Gm"
      },
      "outputs": [],
      "source": [
        "train_ds = tf.data.Dataset.from_tensor_slices((df_train[\"filepath\"], df_train[\"label\"]))\n",
        "valid_ds = tf.data.Dataset.from_tensor_slices((df_valid[\"filepath\"], df_valid[\"label\"]))"
      ]
    },
    {
      "cell_type": "code",
      "execution_count": null,
      "metadata": {
        "id": "E45Wu7XeKMg1"
      },
      "outputs": [],
      "source": [
        "def decode_img(img):\n",
        "  img = tf.image.decode_jpeg(img, channels=3)\n",
        "  img = tf.image.convert_image_dtype(img, tf.float32)\n",
        "  return tf.image.resize(img, [299, 299])"
      ]
    },
    {
      "cell_type": "code",
      "execution_count": null,
      "metadata": {
        "id": "qvhKwUU0KUi4"
      },
      "outputs": [],
      "source": [
        "def process_path(filepath, label):\n",
        "  img = tf.io.read_file(filepath)\n",
        "  img = decode_img(img)\n",
        "  return img, label"
      ]
    },
    {
      "cell_type": "code",
      "execution_count": null,
      "metadata": {
        "colab": {
          "base_uri": "https://localhost:8080/"
        },
        "id": "Z1wHXFTgKYPl",
        "outputId": "3ede8882-6739-4392-9fa3-95f82512e8d4"
      },
      "outputs": [],
      "source": [
        "valid_ds = valid_ds.map(process_path)\n",
        "train_ds = train_ds.map(process_path)\n",
        "for image, label in train_ds.take(1):\n",
        "    print(\"Image shape:\", image.shape)\n",
        "    print(\"Label:\", label.numpy())"
      ]
    },
    {
      "cell_type": "code",
      "execution_count": null,
      "metadata": {
        "id": "zK3o8TAAKgmf"
      },
      "outputs": [],
      "source": [
        "batch_size = 64\n",
        "optimizer = \"rmsprop\""
      ]
    },
    {
      "cell_type": "code",
      "execution_count": null,
      "metadata": {
        "id": "ATGsw-8XK20J"
      },
      "outputs": [],
      "source": [
        "def prepare_for_training(ds, cache=True, batch_size=64, shuffle_buffer_size=1000):\n",
        "  if cache:\n",
        "    if isinstance(cache, str):\n",
        "      ds = ds.cache(cache)\n",
        "    else:\n",
        "      ds = ds.cache()\n",
        "  ds = ds.shuffle(buffer_size=shuffle_buffer_size)\n",
        "  ds = ds.repeat()\n",
        "  ds = ds.batch(batch_size)\n",
        "  ds = ds.prefetch(buffer_size=tf.data.experimental.AUTOTUNE)\n",
        "  return ds"
      ]
    },
    {
      "cell_type": "code",
      "execution_count": null,
      "metadata": {
        "id": "Veqn_liZK59w"
      },
      "outputs": [],
      "source": [
        "valid_ds = prepare_for_training(valid_ds, batch_size=batch_size, cache=\"valid-cached-data\")\n",
        "train_ds = prepare_for_training(train_ds, batch_size=batch_size, cache=\"train-cached-data\")"
      ]
    },
    {
      "cell_type": "code",
      "execution_count": null,
      "metadata": {
        "id": "ficRU8WjK-M_"
      },
      "outputs": [],
      "source": [
        "batch = next(iter(valid_ds))"
      ]
    },
    {
      "cell_type": "code",
      "execution_count": null,
      "metadata": {
        "colab": {
          "base_uri": "https://localhost:8080/",
          "height": 983
        },
        "id": "0GW-JFBtLA3a",
        "outputId": "fa9a8514-cad2-4a7a-8ed4-1a302ae234ff"
      },
      "outputs": [],
      "source": [
        "def show_batch(batch):\n",
        "  plt.figure(figsize=(12,12))\n",
        "  for n in range(25):\n",
        "      ax = plt.subplot(5,5,n+1)\n",
        "      plt.imshow(batch[0][n])\n",
        "      plt.title(class_names[batch[1][n].numpy()].title())\n",
        "      plt.axis('off')       \n",
        "show_batch(batch)"
      ]
    },
    {
      "cell_type": "code",
      "execution_count": null,
      "metadata": {
        "colab": {
          "base_uri": "https://localhost:8080/"
        },
        "id": "iyiUM4wTLA2E",
        "outputId": "8a185fe7-5a3d-4817-d194-40d57deeca31"
      },
      "outputs": [],
      "source": [
        "module_url = \"https://tfhub.dev/google/tf2-preview/inception_v3/feature_vector/4\"\n",
        "m = tf.keras.Sequential([\n",
        "    hub.KerasLayer(module_url, output_shape=[2048], trainable=False),\n",
        "    tf.keras.layers.Dense(1, activation=\"sigmoid\")\n",
        "])\n",
        "\n",
        "m.build([None, 299, 299, 3])\n",
        "m.compile(loss=\"binary_crossentropy\", optimizer=optimizer, metrics=[\"accuracy\"])\n",
        "m.summary()"
      ]
    },
    {
      "cell_type": "code",
      "execution_count": null,
      "metadata": {
        "colab": {
          "base_uri": "https://localhost:8080/",
          "height": 235
        },
        "id": "_PkSFRkoLPzt",
        "outputId": "02a23ed4-0d23-4ad6-9c8e-a4c8c4b2689e"
      },
      "outputs": [],
      "source": [
        "model_name = f\"benign-vs-malignant_{batch_size}_{optimizer}\"\n",
        "tensorboard = tf.keras.callbacks.TensorBoard(log_dir=os.path.join(\"logs\", model_name))\n",
        "modelcheckpoint = tf.keras.callbacks.ModelCheckpoint(model_name + \"_{val_loss:.3f}.h5\", save_best_only=True, verbose=1)\n",
        "\n",
        "history = m.fit(train_ds, validation_data=valid_ds, \n",
        "                steps_per_epoch=n_training_samples // batch_size, \n",
        "                validation_steps=n_validation_samples // batch_size, verbose=1, epochs=100,\n",
        "                callbacks=[tensorboard, modelcheckpoint])"
      ]
    },
    {
      "cell_type": "code",
      "execution_count": null,
      "metadata": {
        "id": "QlkM0gl6LVkW"
      },
      "outputs": [],
      "source": [
        "test_metadata_filename = \"test.csv\"\n",
        "df_test = pd.read_csv(test_metadata_filename)\n",
        "n_testing_samples = len(df_test)\n",
        "print(\"Number of testing samples:\", n_testing_samples)\n",
        "test_ds = tf.data.Dataset.from_tensor_slices((df_test[\"filepath\"], df_test[\"label\"]))"
      ]
    },
    {
      "cell_type": "code",
      "execution_count": null,
      "metadata": {
        "id": "VEVNWzHBLft5"
      },
      "outputs": [],
      "source": [
        "def prepare_for_testing(ds, cache=True, shuffle_buffer_size=1000):\n",
        "  if cache:\n",
        "    if isinstance(cache, str):\n",
        "      ds = ds.cache(cache)\n",
        "    else:\n",
        "      ds = ds.cache()\n",
        "      \n",
        "  ds = ds.shuffle(buffer_size=shuffle_buffer_size)\n",
        "\n",
        "  return ds"
      ]
    },
    {
      "cell_type": "code",
      "execution_count": null,
      "metadata": {
        "id": "0dDtzPw0Lrxr"
      },
      "outputs": [],
      "source": [
        "test_ds = test_ds.map(process_path)\n",
        "test_ds = prepare_for_testing(test_ds, cache=\"test-cached-data\")"
      ]
    },
    {
      "cell_type": "code",
      "execution_count": null,
      "metadata": {
        "id": "8hGohWU4Lwdq"
      },
      "outputs": [],
      "source": [
        "y_test = np.zeros((n_testing_samples,))\n",
        "X_test = np.zeros((n_testing_samples, 299, 299, 3))\n",
        "for i, (img, label) in enumerate(test_ds.take(n_testing_samples)):\n",
        "  X_test[i] = img\n",
        "  y_test[i] = label.numpy()\n",
        "print(\"y_test.shape:\", y_test.shape)"
      ]
    },
    {
      "cell_type": "code",
      "execution_count": null,
      "metadata": {
        "id": "96wo9EEjL5O3"
      },
      "outputs": [],
      "source": [
        "m.load_weights(\"benign-vs-malignant_64_rmsprop_0.399.h5\")"
      ]
    },
    {
      "cell_type": "code",
      "execution_count": null,
      "metadata": {
        "id": "MYkeOQehMD4Y"
      },
      "outputs": [],
      "source": [
        "print(\"Evaluating the model...\")\n",
        "loss, accuracy = m.evaluate(X_test, y_test, verbose=0)\n",
        "print(\"Loss:\", loss, \"  Accuracy:\", accuracy)"
      ]
    },
    {
      "cell_type": "code",
      "execution_count": null,
      "metadata": {
        "id": "WAQIp7YWMKTC"
      },
      "outputs": [],
      "source": [
        "from sklearn.metrics import accuracy_score\n",
        "\n",
        "def get_predictions(threshold=None):\n",
        "  y_pred = m.predict(X_test)\n",
        "  if not threshold:\n",
        "    threshold = 0.5\n",
        "  result = np.zeros((n_testing_samples,))\n",
        "  for i in range(n_testing_samples):\n",
        "    if y_pred[i][0] >= threshold:\n",
        "      result[i] = 1 \n",
        "  return result"
      ]
    },
    {
      "cell_type": "code",
      "execution_count": null,
      "metadata": {
        "id": "MR5pW8srMYKp"
      },
      "outputs": [],
      "source": [
        "threshold = 0.23\n",
        "y_pred = get_predictions(threshold)\n",
        "accuracy_after = accuracy_score(y_test, y_pred)\n",
        "print(\"Accuracy after setting the threshold:\", accuracy_after)"
      ]
    },
    {
      "cell_type": "code",
      "execution_count": null,
      "metadata": {
        "id": "Xfd4XXzfMe4P"
      },
      "outputs": [],
      "source": [
        "import seaborn as sns\n",
        "from sklearn.metrics import roc_curve, auc, confusion_matrix"
      ]
    },
    {
      "cell_type": "code",
      "execution_count": null,
      "metadata": {
        "id": "4M1KXiFWMh1w"
      },
      "outputs": [],
      "source": [
        "def plot_confusion_matrix(y_test, y_pred):\n",
        "  cmn = confusion_matrix(y_test, y_pred)\n",
        "  cmn = cmn.astype('float') / cmn.sum(axis=1)[:, np.newaxis]\n",
        "  fig, ax = plt.subplots(figsize=(10,10))\n",
        "  sns.heatmap(cmn, annot=True, fmt='.2f', \n",
        "              xticklabels=[f\"pred_{c}\" for c in class_names], \n",
        "              yticklabels=[f\"true_{c}\" for c in class_names],\n",
        "              cmap=\"Blues\"\n",
        "              )\n",
        "  plt.ylabel('Actual')\n",
        "  plt.xlabel('Predicted')\n",
        "  plt.show()"
      ]
    },
    {
      "cell_type": "code",
      "execution_count": null,
      "metadata": {
        "id": "C3wme00HNiRU"
      },
      "outputs": [],
      "source": [
        "def plot_roc_auc(y_true, y_pred):\n",
        "  plt.figure()\n",
        "  fpr, tpr, _ = roc_curve(y_true, y_pred)\n",
        "  roc_auc = auc(fpr, tpr)\n",
        "  print(f\"ROC AUC: {roc_auc:.3f}\")\n",
        "  plt.plot(fpr, tpr, color=\"blue\", lw=2,\n",
        "              label='ROC curve (area = {f:.2f})'.format(d=1, f=roc_auc))\n",
        "  plt.xlim([0.0, 1.0])\n",
        "  plt.ylim([0.0, 1.05])\n",
        "  plt.xlabel('False Positive Rate')\n",
        "  plt.ylabel('True Positive Rate')\n",
        "  plt.title('ROC curves')\n",
        "  plt.legend(loc=\"lower right\")\n",
        "  plt.show()"
      ]
    },
    {
      "cell_type": "code",
      "execution_count": null,
      "metadata": {
        "id": "pYi8XJoUNzBm"
      },
      "outputs": [],
      "source": [
        "plot_confusion_matrix(y_test, y_pred)\n",
        "plot_roc_auc(y_test, y_pred)\n",
        "sensitivity = sensitivity_score(y_test, y_pred)\n",
        "specificity = specificity_score(y_test, y_pred)"
      ]
    },
    {
      "cell_type": "code",
      "execution_count": null,
      "metadata": {
        "id": "duwx5artN7az"
      },
      "outputs": [],
      "source": [
        "print(\"Melanoma Sensitivity:\", sensitivity)\n",
        "print(\"Melanoma Specificity:\", specificity)"
      ]
    },
    {
      "cell_type": "code",
      "execution_count": null,
      "metadata": {
        "id": "F4V1T3DTN9nt"
      },
      "outputs": [],
      "source": [
        "def plot_images(X_test, y_pred, y_test):\n",
        "  predicted_class_names = np.array([class_names[int(round(id))] for id in y_pred])\n",
        "  plt.figure(figsize=(10,9))\n",
        "  for n in range(30, 60):\n",
        "      plt.subplot(6,5,n-30+1)\n",
        "      plt.subplots_adjust(hspace = 0.3)\n",
        "      plt.imshow(X_test[n])\n",
        "      predicted_label = predicted_class_names[n]\n",
        "      true_label = class_names[int(round(y_test[n]))]\n",
        "      if predicted_label == true_label:\n",
        "          color = \"blue\"\n",
        "          title = predicted_label.title()\n",
        "      else:\n",
        "          color = \"red\"\n",
        "          title = f\"{predicted_label.title()}, true:{true_label.title()}\"\n",
        "      plt.title(title, color=color)\n",
        "      plt.axis('off')\n",
        "  _ = plt.suptitle(\"Model predictions (blue: correct, red: incorrect)\")\n",
        "  plt.show()"
      ]
    },
    {
      "cell_type": "code",
      "execution_count": null,
      "metadata": {
        "id": "UxrsMjpKOK6v"
      },
      "outputs": [],
      "source": [
        "plot_images(X_test, y_pred, y_test)"
      ]
    },
    {
      "cell_type": "code",
      "execution_count": null,
      "metadata": {
        "id": "uXdIg27rOM-t"
      },
      "outputs": [],
      "source": [
        "def predict_image_class(img_path, model, threshold=0.5):\n",
        "  img = tf.keras.preprocessing.image.load_img(img_path, target_size=(299, 299))\n",
        "  img = tf.keras.preprocessing.image.img_to_array(img)\n",
        "  img = tf.expand_dims(img, 0) # Create a batch\n",
        "  img = tf.keras.applications.inception_v3.preprocess_input(img)\n",
        "  img = tf.image.convert_image_dtype(img, tf.float32)\n",
        "  predictions = model.predict(img)\n",
        "  score = predictions.squeeze()\n",
        "  if score >= threshold:\n",
        "    print(f\"This image is {100 * score:.2f}% malignant.\")\n",
        "  else:\n",
        "    print(f\"This image is {100 * (1 - score):.2f}% benign.\")\n",
        "    \n",
        "  plt.imshow(img[0])\n",
        "  plt.axis('off')\n",
        "  plt.show()"
      ]
    },
    {
      "cell_type": "code",
      "execution_count": null,
      "metadata": {
        "id": "KdgcmDj5OPtb"
      },
      "outputs": [],
      "source": [
        "predict_image_class(\"data/test/melanoma/ISIC_0013767.jpg\", m)"
      ]
    },
    {
      "cell_type": "code",
      "execution_count": null,
      "metadata": {
        "id": "NagrsdXfOSbQ"
      },
      "outputs": [],
      "source": [
        "predict_image_class(\"data/test/nevus/ISIC_0012092.jpg\", m)"
      ]
    },
    {
      "cell_type": "code",
      "execution_count": null,
      "metadata": {
        "id": "F92XpxqZOUgy"
      },
      "outputs": [],
      "source": [
        "predict_image_class(\"data/test/seborrheic_keratosis/ISIC_0012136.jpg\", m)"
      ]
    }
  ],
  "metadata": {
    "accelerator": "GPU",
    "colab": {
      "gpuType": "T4",
      "provenance": []
    },
    "kernelspec": {
      "display_name": "Python 3",
      "name": "python3"
    },
    "language_info": {
      "name": "python"
    }
  },
  "nbformat": 4,
  "nbformat_minor": 0
}
